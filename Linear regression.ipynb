{
 "cells": [
  {
   "cell_type": "code",
   "execution_count": 38,
   "id": "6b9cf2ba",
   "metadata": {},
   "outputs": [],
   "source": [
    "import pandas as pd\n",
    "import numpy as np"
   ]
  },
  {
   "cell_type": "code",
   "execution_count": 139,
   "id": "eacbad46",
   "metadata": {},
   "outputs": [
    {
     "data": {
      "text/html": [
       "<div>\n",
       "<style scoped>\n",
       "    .dataframe tbody tr th:only-of-type {\n",
       "        vertical-align: middle;\n",
       "    }\n",
       "\n",
       "    .dataframe tbody tr th {\n",
       "        vertical-align: top;\n",
       "    }\n",
       "\n",
       "    .dataframe thead th {\n",
       "        text-align: right;\n",
       "    }\n",
       "</style>\n",
       "<table border=\"1\" class=\"dataframe\">\n",
       "  <thead>\n",
       "    <tr style=\"text-align: right;\">\n",
       "      <th></th>\n",
       "      <th>Date</th>\n",
       "      <th>Open</th>\n",
       "      <th>High</th>\n",
       "      <th>Low</th>\n",
       "      <th>Close</th>\n",
       "      <th>Adj Close</th>\n",
       "      <th>Volume</th>\n",
       "    </tr>\n",
       "  </thead>\n",
       "  <tbody>\n",
       "    <tr>\n",
       "      <th>0</th>\n",
       "      <td>2022-09-12</td>\n",
       "      <td>300.720001</td>\n",
       "      <td>305.489990</td>\n",
       "      <td>300.399994</td>\n",
       "      <td>304.420013</td>\n",
       "      <td>304.420013</td>\n",
       "      <td>48674600</td>\n",
       "    </tr>\n",
       "    <tr>\n",
       "      <th>1</th>\n",
       "      <td>2022-09-13</td>\n",
       "      <td>292.899994</td>\n",
       "      <td>297.399994</td>\n",
       "      <td>290.399994</td>\n",
       "      <td>292.130005</td>\n",
       "      <td>292.130005</td>\n",
       "      <td>68229600</td>\n",
       "    </tr>\n",
       "    <tr>\n",
       "      <th>2</th>\n",
       "      <td>2022-09-14</td>\n",
       "      <td>292.239990</td>\n",
       "      <td>306.000000</td>\n",
       "      <td>291.640015</td>\n",
       "      <td>302.609985</td>\n",
       "      <td>302.609985</td>\n",
       "      <td>72628700</td>\n",
       "    </tr>\n",
       "    <tr>\n",
       "      <th>3</th>\n",
       "      <td>2022-09-15</td>\n",
       "      <td>301.829987</td>\n",
       "      <td>309.119995</td>\n",
       "      <td>300.720001</td>\n",
       "      <td>303.750000</td>\n",
       "      <td>303.750000</td>\n",
       "      <td>64795500</td>\n",
       "    </tr>\n",
       "    <tr>\n",
       "      <th>4</th>\n",
       "      <td>2022-09-16</td>\n",
       "      <td>299.609985</td>\n",
       "      <td>303.709991</td>\n",
       "      <td>295.600006</td>\n",
       "      <td>303.350006</td>\n",
       "      <td>303.350006</td>\n",
       "      <td>87087800</td>\n",
       "    </tr>\n",
       "    <tr>\n",
       "      <th>...</th>\n",
       "      <td>...</td>\n",
       "      <td>...</td>\n",
       "      <td>...</td>\n",
       "      <td>...</td>\n",
       "      <td>...</td>\n",
       "      <td>...</td>\n",
       "      <td>...</td>\n",
       "    </tr>\n",
       "    <tr>\n",
       "      <th>246</th>\n",
       "      <td>2023-09-05</td>\n",
       "      <td>245.000000</td>\n",
       "      <td>258.000000</td>\n",
       "      <td>244.860001</td>\n",
       "      <td>256.489990</td>\n",
       "      <td>256.489990</td>\n",
       "      <td>129469600</td>\n",
       "    </tr>\n",
       "    <tr>\n",
       "      <th>247</th>\n",
       "      <td>2023-09-06</td>\n",
       "      <td>255.139999</td>\n",
       "      <td>255.389999</td>\n",
       "      <td>245.059998</td>\n",
       "      <td>251.919998</td>\n",
       "      <td>251.919998</td>\n",
       "      <td>116959800</td>\n",
       "    </tr>\n",
       "    <tr>\n",
       "      <th>248</th>\n",
       "      <td>2023-09-07</td>\n",
       "      <td>245.070007</td>\n",
       "      <td>252.809998</td>\n",
       "      <td>243.270004</td>\n",
       "      <td>251.490005</td>\n",
       "      <td>251.490005</td>\n",
       "      <td>115312900</td>\n",
       "    </tr>\n",
       "    <tr>\n",
       "      <th>249</th>\n",
       "      <td>2023-09-08</td>\n",
       "      <td>251.220001</td>\n",
       "      <td>256.519989</td>\n",
       "      <td>246.669998</td>\n",
       "      <td>248.500000</td>\n",
       "      <td>248.500000</td>\n",
       "      <td>118367700</td>\n",
       "    </tr>\n",
       "    <tr>\n",
       "      <th>250</th>\n",
       "      <td>2023-09-11</td>\n",
       "      <td>264.269989</td>\n",
       "      <td>267.250000</td>\n",
       "      <td>260.609985</td>\n",
       "      <td>267.239990</td>\n",
       "      <td>267.239990</td>\n",
       "      <td>73178972</td>\n",
       "    </tr>\n",
       "  </tbody>\n",
       "</table>\n",
       "<p>251 rows × 7 columns</p>\n",
       "</div>"
      ],
      "text/plain": [
       "           Date        Open        High         Low       Close   Adj Close  \\\n",
       "0    2022-09-12  300.720001  305.489990  300.399994  304.420013  304.420013   \n",
       "1    2022-09-13  292.899994  297.399994  290.399994  292.130005  292.130005   \n",
       "2    2022-09-14  292.239990  306.000000  291.640015  302.609985  302.609985   \n",
       "3    2022-09-15  301.829987  309.119995  300.720001  303.750000  303.750000   \n",
       "4    2022-09-16  299.609985  303.709991  295.600006  303.350006  303.350006   \n",
       "..          ...         ...         ...         ...         ...         ...   \n",
       "246  2023-09-05  245.000000  258.000000  244.860001  256.489990  256.489990   \n",
       "247  2023-09-06  255.139999  255.389999  245.059998  251.919998  251.919998   \n",
       "248  2023-09-07  245.070007  252.809998  243.270004  251.490005  251.490005   \n",
       "249  2023-09-08  251.220001  256.519989  246.669998  248.500000  248.500000   \n",
       "250  2023-09-11  264.269989  267.250000  260.609985  267.239990  267.239990   \n",
       "\n",
       "        Volume  \n",
       "0     48674600  \n",
       "1     68229600  \n",
       "2     72628700  \n",
       "3     64795500  \n",
       "4     87087800  \n",
       "..         ...  \n",
       "246  129469600  \n",
       "247  116959800  \n",
       "248  115312900  \n",
       "249  118367700  \n",
       "250   73178972  \n",
       "\n",
       "[251 rows x 7 columns]"
      ]
     },
     "execution_count": 139,
     "metadata": {},
     "output_type": "execute_result"
    }
   ],
   "source": [
    "# --- DATA EXTRACTED FROM YAHOO FINANCE ---\n",
    "tsla = pd.read_csv('TSLA.csv')\n",
    "\n",
    "tsla"
   ]
  },
  {
   "cell_type": "markdown",
   "id": "c122442b",
   "metadata": {},
   "source": [
    "## Preparando los datos"
   ]
  },
  {
   "cell_type": "code",
   "execution_count": 68,
   "id": "78312979",
   "metadata": {},
   "outputs": [
    {
     "name": "stdout",
     "output_type": "stream",
     "text": [
      "             Adj Close\n",
      "Date                  \n",
      "2022-09-12  304.420013\n",
      "2022-09-13  292.130005\n",
      "2022-09-14  302.609985\n",
      "2022-09-15  303.750000\n",
      "2022-09-16  303.350006\n",
      "...                ...\n",
      "2023-09-05  256.489990\n",
      "2023-09-06  251.919998\n",
      "2023-09-07  251.490005\n",
      "2023-09-08  248.500000\n",
      "2023-09-11  267.239990\n",
      "\n",
      "[251 rows x 1 columns]\n"
     ]
    }
   ],
   "source": [
    "tsla.set_index(pd.DatetimeIndex(tsla['Date']), inplace=True)\n",
    "tsla = tsla[['Adj Close']]\n",
    "\n",
    "print(tsla)"
   ]
  },
  {
   "cell_type": "markdown",
   "id": "169881e2",
   "metadata": {},
   "source": [
    "## Visualizando los datos"
   ]
  },
  {
   "cell_type": "code",
   "execution_count": 69,
   "id": "d38c8629",
   "metadata": {},
   "outputs": [],
   "source": [
    "import matplotlib.pyplot as plt\n",
    "%matplotlib inline"
   ]
  },
  {
   "cell_type": "code",
   "execution_count": 71,
   "id": "50514dc3",
   "metadata": {},
   "outputs": [
    {
     "data": {
      "image/png": "[encoded data removed]",
      "text/plain": [
       "<Figure size 640x480 with 1 Axes>"
      ]
     },
     "metadata": {},
     "output_type": "display_data"
    }
   ],
   "source": [
    "plt.plot(tsla.index, tsla['Adj Close'])\n",
    "\n",
    "plt.show()"
   ]
  },
  {
   "cell_type": "markdown",
   "id": "ba53b5f3",
   "metadata": {},
   "source": [
    "## Agregando indicadores"
   ]
  },
  {
   "cell_type": "code",
   "execution_count": 78,
   "id": "2bc7a51b",
   "metadata": {},
   "outputs": [
    {
     "name": "stdout",
     "output_type": "stream",
     "text": [
      "[X] Ooops!!! It's True, the series 'adj_close' was not found in Adj Close, EMA_10\n"
     ]
    },
    {
     "data": {
      "text/html": [
       "<div>\n",
       "<style scoped>\n",
       "    .dataframe tbody tr th:only-of-type {\n",
       "        vertical-align: middle;\n",
       "    }\n",
       "\n",
       "    .dataframe tbody tr th {\n",
       "        vertical-align: top;\n",
       "    }\n",
       "\n",
       "    .dataframe thead th {\n",
       "        text-align: right;\n",
       "    }\n",
       "</style>\n",
       "<table border=\"1\" class=\"dataframe\">\n",
       "  <thead>\n",
       "    <tr style=\"text-align: right;\">\n",
       "      <th></th>\n",
       "      <th>Adj Close</th>\n",
       "      <th>EMA_10</th>\n",
       "    </tr>\n",
       "    <tr>\n",
       "      <th>Date</th>\n",
       "      <th></th>\n",
       "      <th></th>\n",
       "    </tr>\n",
       "  </thead>\n",
       "  <tbody>\n",
       "    <tr>\n",
       "      <th>2022-09-12</th>\n",
       "      <td>304.420013</td>\n",
       "      <td>NaN</td>\n",
       "    </tr>\n",
       "    <tr>\n",
       "      <th>2022-09-13</th>\n",
       "      <td>292.130005</td>\n",
       "      <td>NaN</td>\n",
       "    </tr>\n",
       "    <tr>\n",
       "      <th>2022-09-14</th>\n",
       "      <td>302.609985</td>\n",
       "      <td>NaN</td>\n",
       "    </tr>\n",
       "    <tr>\n",
       "      <th>2022-09-15</th>\n",
       "      <td>303.750000</td>\n",
       "      <td>NaN</td>\n",
       "    </tr>\n",
       "    <tr>\n",
       "      <th>2022-09-16</th>\n",
       "      <td>303.350006</td>\n",
       "      <td>NaN</td>\n",
       "    </tr>\n",
       "    <tr>\n",
       "      <th>...</th>\n",
       "      <td>...</td>\n",
       "      <td>...</td>\n",
       "    </tr>\n",
       "    <tr>\n",
       "      <th>2023-09-05</th>\n",
       "      <td>256.489990</td>\n",
       "      <td>247.251419</td>\n",
       "    </tr>\n",
       "    <tr>\n",
       "      <th>2023-09-06</th>\n",
       "      <td>251.919998</td>\n",
       "      <td>248.100252</td>\n",
       "    </tr>\n",
       "    <tr>\n",
       "      <th>2023-09-07</th>\n",
       "      <td>251.490005</td>\n",
       "      <td>248.716570</td>\n",
       "    </tr>\n",
       "    <tr>\n",
       "      <th>2023-09-08</th>\n",
       "      <td>248.500000</td>\n",
       "      <td>248.677194</td>\n",
       "    </tr>\n",
       "    <tr>\n",
       "      <th>2023-09-11</th>\n",
       "      <td>267.239990</td>\n",
       "      <td>252.052248</td>\n",
       "    </tr>\n",
       "  </tbody>\n",
       "</table>\n",
       "<p>251 rows × 2 columns</p>\n",
       "</div>"
      ],
      "text/plain": [
       "             Adj Close      EMA_10\n",
       "Date                              \n",
       "2022-09-12  304.420013         NaN\n",
       "2022-09-13  292.130005         NaN\n",
       "2022-09-14  302.609985         NaN\n",
       "2022-09-15  303.750000         NaN\n",
       "2022-09-16  303.350006         NaN\n",
       "...                ...         ...\n",
       "2023-09-05  256.489990  247.251419\n",
       "2023-09-06  251.919998  248.100252\n",
       "2023-09-07  251.490005  248.716570\n",
       "2023-09-08  248.500000  248.677194\n",
       "2023-09-11  267.239990  252.052248\n",
       "\n",
       "[251 rows x 2 columns]"
      ]
     },
     "execution_count": 78,
     "metadata": {},
     "output_type": "execute_result"
    }
   ],
   "source": [
    "import pandas_ta\n",
    "\n",
    "tsla.ta.ema(close='adj_close', length=10, append=True)"
   ]
  },
  {
   "cell_type": "code",
   "execution_count": 83,
   "id": "b7d14243",
   "metadata": {},
   "outputs": [],
   "source": [
    "# Cleaning NaN values\n",
    "tsla = tsla.iloc[10:]"
   ]
  },
  {
   "cell_type": "code",
   "execution_count": 92,
   "id": "0a2589d3",
   "metadata": {},
   "outputs": [
    {
     "data": {
      "image/png": "[encoded data removed]",
      "text/plain": [
       "<Figure size 640x480 with 1 Axes>"
      ]
     },
     "metadata": {},
     "output_type": "display_data"
    }
   ],
   "source": [
    "plt.plot(tsla.index, tsla['Adj Close'], '-y', tsla['EMA_10'])\n",
    "\n",
    "plt.show()"
   ]
  },
  {
   "cell_type": "markdown",
   "id": "7bd4f436",
   "metadata": {},
   "source": [
    "## Preparando datos de test"
   ]
  },
  {
   "cell_type": "code",
   "execution_count": 98,
   "id": "ca88cd3d",
   "metadata": {},
   "outputs": [],
   "source": [
    "from sklearn.model_selection import train_test_split"
   ]
  },
  {
   "cell_type": "code",
   "execution_count": 100,
   "id": "57f5c631",
   "metadata": {},
   "outputs": [],
   "source": [
    "# Split data into testing and training sets\n",
    "# The test size 0.20 (20%) \n",
    "# Was specified as an argument to the train_test_split function.\n",
    "X_train, X_test, y_train, y_test = train_test_split(\n",
    "    tsla[['Adj Close']], tsla[['EMA_10']], \n",
    "test_size=.2)"
   ]
  },
  {
   "cell_type": "code",
   "execution_count": 101,
   "id": "b5d9c213",
   "metadata": {},
   "outputs": [
    {
     "name": "stdout",
     "output_type": "stream",
     "text": [
      "        Adj Close\n",
      "count   43.000000\n",
      "mean   205.719303\n",
      "std     42.765247\n",
      "min    108.099998\n",
      "25%    181.849998\n",
      "50%    197.580002\n",
      "75%    243.994995\n",
      "max    271.989990\n"
     ]
    }
   ],
   "source": [
    "# Test set\n",
    "print(X_test.describe())"
   ]
  },
  {
   "cell_type": "code",
   "execution_count": 135,
   "id": "635efbe4",
   "metadata": {},
   "outputs": [
    {
     "name": "stdout",
     "output_type": "stream",
     "text": [
      "        Adj Close\n",
      "count  168.000000\n",
      "mean   198.183154\n",
      "std     45.239596\n",
      "min    109.099998\n",
      "25%    170.022500\n",
      "50%    190.195000\n",
      "75%    238.647499\n",
      "max    293.339996\n"
     ]
    }
   ],
   "source": [
    "# Training set\n",
    "print(X_train.describe())"
   ]
  },
  {
   "cell_type": "markdown",
   "id": "aecfd5eb",
   "metadata": {},
   "source": [
    "## Entrenando el modelo"
   ]
  },
  {
   "cell_type": "code",
   "execution_count": 125,
   "id": "1154b683",
   "metadata": {},
   "outputs": [],
   "source": [
    "from sklearn.linear_model import LinearRegression\n",
    "\n",
    "model = LinearRegression()\n",
    "\n",
    "# trainning\n",
    "model.fit(X_train, y_train)\n",
    "\n",
    "# making the prediction\n",
    "y_pred = model.predict(X_test)"
   ]
  },
  {
   "cell_type": "markdown",
   "id": "178605c4",
   "metadata": {},
   "source": [
    "## Validando el fit"
   ]
  },
  {
   "cell_type": "code",
   "execution_count": 109,
   "id": "6bb63062",
   "metadata": {},
   "outputs": [
    {
     "name": "stdout",
     "output_type": "stream",
     "text": [
      "Model Coefficients: [[0.9069203]]\n",
      "Mean Absolute Error: 8.904260328914445\n",
      "Coefficient of Determination: 0.9235036930703031\n"
     ]
    }
   ],
   "source": [
    "from sklearn.metrics import mean_squared_error, r2_score, mean_absolute_error\n",
    "\n",
    "# Printout relevant metrics\n",
    "print(\"Model Coefficients:\", model.coef_)\n",
    "print(\"Mean Absolute Error:\", mean_absolute_error(y_test, y_pred))\n",
    "print(\"Coefficient of Determination:\", r2_score(y_test, y_pred))\n"
   ]
  },
  {
   "cell_type": "markdown",
   "id": "91fbee2d",
   "metadata": {},
   "source": [
    "## Interpretacion"
   ]
  },
  {
   "cell_type": "markdown",
   "id": "b8a26e16",
   "metadata": {},
   "source": [
    "At this point, we’ve trained a model on historical pricing data using the Adjusted Closing value and the Exponential Moving Average for a 10-day trading period. Our goal was to develop a model that can use the EMA of any given day (dependent on pricing from the previous 9 days) and accurately predict that day’s closing price. Let’s run a simulation of a very simple trading strategy to assess how well we might have done using this.\n",
    "\n",
    "Strategy: If our model predicts a higher closing value than the opening value we make a trade for a single share on that day—buying at market open and selling just before market close."
   ]
  }
 ],
 "metadata": {
  "kernelspec": {
   "display_name": "Python 3 (ipykernel)",
   "language": "python",
   "name": "python3"
  },
  "language_info": {
   "codemirror_mode": {
    "name": "ipython",
    "version": 3
   },
   "file_extension": ".py",
   "mimetype": "text/x-python",
   "name": "python",
   "nbconvert_exporter": "python",
   "pygments_lexer": "ipython3",
   "version": "3.11.3"
  }
 },
 "nbformat": 4,
 "nbformat_minor": 5
}
